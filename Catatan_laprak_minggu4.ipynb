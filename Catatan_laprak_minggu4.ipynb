{
 "cells": [
  {
   "cell_type": "markdown",
   "metadata": {},
   "source": [
    "Contoh pembuatan fungsi"
   ]
  },
  {
   "cell_type": "code",
   "execution_count": 5,
   "metadata": {},
   "outputs": [
    {
     "name": "stdout",
     "output_type": "stream",
     "text": [
      "219\n"
     ]
    }
   ],
   "source": [
    "def ini_fungsi():                   #\"ini_fungsi\" adalah nama dari fungsi yang akan dibuat. Jangan lupa titik 2\n",
    "    perumusan_masalah = 120 + 99    #ini adalah apa yang akan terjadi jika fungsi yang telah dibuat terpanggil\n",
    "    return perumusan_masalah        #untuk mempermudah, kita menggunakan fungsi return agar nilai yang telah dihitung dapat dikeluarkan dari fungsi\n",
    "\n",
    "hasilnya = ini_fungsi()             #saya menyimpan fungsi ke dalam variabel agar mudah untuk dipanggil\n",
    "print(hasilnya)                     #ini akan menampilkan hasil dari fungsi \"ini_fungsi\". Jangan lupa untuk diprint agar nilainya muncul di layar"
   ]
  },
  {
   "cell_type": "code",
   "execution_count": 6,
   "metadata": {},
   "outputs": [
    {
     "name": "stdout",
     "output_type": "stream",
     "text": [
      "Terimakasih dunia\n"
     ]
    }
   ],
   "source": [
    "def ini_fungsi():                               #\"ini_fungsi\" adalah nama dari fungsi yang akan dibuat. Jangan lupa titik 2\n",
    "    perumusan_masalah = \"Terimakasih dunia\"     #ini adalah apa yang akan terjadi jika fungsi yang telah dibuat terpanggil\n",
    "    return perumusan_masalah                    #untuk mempermudah, kita menggunakan fungsi return agar nilai yang telah dihitung dapat dikeluarkan dari fungsi\n",
    "\n",
    "hasilnya = ini_fungsi()                         #saya menyimpan fungsi ke dalam variabel agar mudah untuk dipanggil\n",
    "print(hasilnya)                                 #ini akan menampilkan hasil dari fungsi \"ini_fungsi\". Jangan lupa untuk diprint agar nilainya muncul di layar"
   ]
  },
  {
   "cell_type": "markdown",
   "metadata": {},
   "source": [
    "Ini adalah contoh penggunaan parameter"
   ]
  },
  {
   "cell_type": "code",
   "execution_count": null,
   "metadata": {},
   "outputs": [],
   "source": [
    "def perpangkatan(nilai, pangkat):                   #nilai dan pangkat disebut sebagai parameter\n",
    "    operasi = nilai**pangkat                        #ini adalah operasi perpangkatan\n",
    "    return operasi                                  #(Langkah 3)keluarkan hasil operasi dari fungsi\n",
    "\n",
    "nilai = int(input(\"Masukkan angka anda : \"))        #minta nilai dan pangkat dari user menggunakan input menggunakan nama variabel dari parameter\n",
    "pangkat = int(input(\"Dipangkatkan dengan : \"))      #agar parameter terisi nilai inputan dari user\n",
    "\n",
    "hasil = perpangkatan(nilai,pangkat)                 #setelah langkah Langkah 3, masukkan nilai dari fungsi ke dalam sebuah variable\n",
    "print(f\"hasilnya adalah : {hasil}\")"
   ]
  },
  {
   "cell_type": "markdown",
   "metadata": {},
   "source": [
    "Ini contoh parameter default (Tanpa input user)"
   ]
  },
  {
   "cell_type": "code",
   "execution_count": 18,
   "metadata": {},
   "outputs": [
    {
     "name": "stdout",
     "output_type": "stream",
     "text": [
      "hasilnya adalah : 1\n"
     ]
    }
   ],
   "source": [
    "def perpangkatan(nilai=0, pangkat=0):       #ini adalah parameter ketika telah didefault \"def nama_func(parameter = default_yang diinginkan)\"\n",
    "    operasi = nilai**pangkat                #Argumen        \n",
    "    return operasi                          #mengeluarkan nilai dari functiomn     \n",
    "hasil = perpangkatan()                      #menyimpan nilai ke dalam variabel        \n",
    "print(f\"hasilnya adalah : {hasil}\")         #menampilkan nilai di dalam variabel ke layar"
   ]
  },
  {
   "cell_type": "markdown",
   "metadata": {},
   "source": [
    "Return value"
   ]
  },
  {
   "cell_type": "code",
   "execution_count": null,
   "metadata": {},
   "outputs": [],
   "source": [
    "#Sebuah bakteri asing bereproduksi dengan cara membelah diri. Bakteri tersebut akan membelah diri setiap 10 detik menjadi 2 bagian.\n",
    "#Seorang peneliti ingin mengamati bakteri tersebut. Buatlah program yang dapat menghitung jumlah bakteri (tiap kali bereproduksi)\n",
    "#yang tersimpan di dalam toples selama beberapa menit (tergantung peneliti) jika terdapat 3 bakteri di dalam toples. (print setiap 10 detik)\n",
    "#(Menggunakan return)\n",
    "def Pertumbuhan_bakteri(waktu):             #ini adalah function bernama Pertumbuhan_bakteri dengan parameter waktu.\n",
    "    bakteri = 3                             #ini adalah jumlah bakteri di dalam toples saat ini.\n",
    "    a = 1                                   #ini adalah detik saat pertamakali bakteri diletakkan.\n",
    "    while a <= (waktu*60):                  #fungsi Pertumbuhan_bakteri menggunakan perulangan di dalamnya yang berbunyi \"jangan berhenti print\n",
    "        print(bakteri)                      #                                                                       selama bakteri masih berkembang.\"\n",
    "        bakteri += bakteri                  #ini adalah proses saat bakteri berkembang.\n",
    "        a += 10                             #selama detik masih belum mencapai batas waktu, program akan terus berjalan.\n",
    "    return(bakteri)                         #ini adalah hasil dari fungsi di atas yang dikeluarkan dari fungsi.\n",
    "\n",
    "waktu = float(input(\"Mau mengamati berapa menit? : \"))          #ini adalah inputan dari user \n",
    "\n",
    "hasil_perjam = Pertumbuhan_bakteri(waktu)                       #ini adalah variable untuk menampung nilai hasil fungsi\n",
    "\n",
    "print(hasil_perjam)                                             #output dari fungsi"
   ]
  },
  {
   "cell_type": "code",
   "execution_count": null,
   "metadata": {},
   "outputs": [],
   "source": [
    "#Sebuah bakteri asing bereproduksi dengan cara membelah diri. Bakteri tersebut akan membelah diri setiap 10 detik menjadi 2 bagian.\n",
    "#Seorang peneliti ingin mengamati bakteri tersebut. Buatlah program yang dapat menghitung jumlah bakteri (tiap kali bereproduksi)\n",
    "#yang tersimpan di dalam toples selama beberapa menit (tergantung peneliti) jika terdapat 3 bakteri di dalam toples. (print setiap 10 detik)\n",
    "#(Tanpa return dan input)\n",
    "def Pertumbuhan_bakteri(waktu):             #ini adalah function bernama Pertumbuhan_bakteri dengan parameter waktu.\n",
    "    bakteri = 3                             #ini adalah jumlah bakteri di dalam toples saat ini.\n",
    "    a = 1                                   #ini adalah detik saat pertamakali bakteri diletakkan.\n",
    "    while a <= (waktu*60):                  #fungsi Pertumbuhan_bakteri menggunakan perulangan di dalamnya yang berbunyi \"jangan berhenti print\n",
    "        print(bakteri)                      #                                                                       selama bakteri masih berkembang.\"\n",
    "        bakteri += bakteri                  #ini adalah proses saat bakteri berkembang.\n",
    "        a += 10                             #selama detik masih belum mencapai batas waktu, program akan terus berjalan.\n",
    "Pertumbuhan_bakteri(1)"
   ]
  },
  {
   "cell_type": "markdown",
   "metadata": {},
   "source": [
    "Anonymous function (Lambda)"
   ]
  },
  {
   "cell_type": "code",
   "execution_count": null,
   "metadata": {},
   "outputs": [],
   "source": [
    "#Buatlah sebuah anonymous function untuk pengeluaran\n",
    "Pengeluaran = lambda uang_sekarang, uang_keluar: uang_sekarang - uang_keluar        #ini adalah fungsi lambda\n",
    "print(Pengeluaran(1000000,10000000))                                                #lambda tidak menerima input dari user"
   ]
  },
  {
   "cell_type": "markdown",
   "metadata": {},
   "source": [
    "Latihan mandiri 4.1"
   ]
  },
  {
   "cell_type": "code",
   "execution_count": null,
   "metadata": {},
   "outputs": [],
   "source": [
    "def cek_angka(parameter1, parameter2, parameter3):              #Pendefinisian fungsi\n",
    "    if parameter1 != parameter2 != parameter3:                  #Proses yang terjadi di dalam fungsi (Percabangan dan logical operator)\n",
    "        if (parameter1 + parameter2 == parameter3) or (parameter2 + parameter3 == parameter1) or (parameter3 + parameter1 == parameter2):\n",
    "            print(True)\n",
    "        else:\n",
    "            print(False)\n",
    "    else:\n",
    "        print(False)\n",
    "    return parameter1, parameter2, parameter3                   #Pengembalian nilai\n",
    "\n",
    "nilai1 = int(input(\"Masukkan nilai pertama anda : \"))       #Meminta inputan dari user ke dalam parameter\n",
    "nilai2 = int(input(\"Masukkan nilai kedua anda   : \"))       #Meminta inputan dari user ke dalam parameter\n",
    "nilai3 = int(input(\"Masukkan nilai ketiga anda  : \"))       #Meminta inputan dari user ke dalam parameter\n",
    "\n",
    "hasil = cek_angka(nilai1, nilai2, nilai3)"
   ]
  },
  {
   "cell_type": "markdown",
   "metadata": {},
   "source": [
    "Latihan 4.2"
   ]
  },
  {
   "cell_type": "code",
   "execution_count": 68,
   "metadata": {},
   "outputs": [],
   "source": [
    "def cek_digit_belakang(angka1, angka2, angka3):         #Pendefinisian fungsi\n",
    "    if angka1 % 10 == angka2 % 10 == angka3 % 10:       #Operasi di dalam fungsi (percabangan dan logical operator)\n",
    "        print(True)\n",
    "    elif (angka1 % 10 == angka2 % 10 != angka3 % 10) or (angka2 % 10 == angka3 % 10 != angka1 % 10) or (angka3 % 10 == angka1 % 10 != angka2 % 10):\n",
    "        print(True)\n",
    "    else:\n",
    "        print(False)\n",
    "    return angka1, angka2, angka3                       #Mengeluarkan nilai dari fungsi\n",
    "\n",
    "nilai1 = int(input(\"Masukkan angka pertama : \"))\n",
    "nilai2 = int(input(\"Masukkan angka kedua   : \"))        #Inputan user\n",
    "nilai3 = int(input(\"Masukkan angka ketiga  : \"))\n",
    "\n",
    "hasil = cek_digit_belakang(nilai1, nilai2, nilai3)      #Variable untuk menyimpan nilai fungsi"
   ]
  },
  {
   "cell_type": "markdown",
   "metadata": {},
   "source": [
    "Latihan 4.3"
   ]
  },
  {
   "cell_type": "code",
   "execution_count": 72,
   "metadata": {},
   "outputs": [
    {
     "name": "stdout",
     "output_type": "stream",
     "text": [
      "0 derajat celcius sama dengan : \n",
      " >>> 32.0 derajat fahrenheit\n",
      " >>> 0.0 derajat reamur\n"
     ]
    }
   ],
   "source": [
    "# Buatlah fungsi-fungsi konversi suhu menggunakan lambda function. Fungsi-fungsi\n",
    "# yang harus anda implementasikan:\n",
    "# • Celcius to Fahrenheit. F = (9/5) ∗C +32\n",
    "# • Celcius to Reamur. R = 0.8 ∗C\n",
    "# Berikan contoh penggunaannya untuk test-case berikut ini:\n",
    "# • Input C = 100. Output F = 212.\n",
    "# • Input C = 80. Output R = 64.\n",
    "# • Input = 0. Output F = 32.\n",
    "\n",
    "Celcius_Fahrenheit = lambda C : (9/5) * C + 32\n",
    "Celcius_Reamur = lambda C : 0.8 * C\n",
    "\n",
    "Angka = int(input(\"Mau lihat berapa celcius? \\n >>> \"))\n",
    "print(f\"{Angka} derajat celcius sama dengan : \\n >>> {Celcius_Fahrenheit(Angka)} derajat fahrenheit\\n >>> {Celcius_Reamur(Angka)} derajat reamur\")"
   ]
  }
 ],
 "metadata": {
  "kernelspec": {
   "display_name": "Python 3",
   "language": "python",
   "name": "python3"
  },
  "language_info": {
   "codemirror_mode": {
    "name": "ipython",
    "version": 3
   },
   "file_extension": ".py",
   "mimetype": "text/x-python",
   "name": "python",
   "nbconvert_exporter": "python",
   "pygments_lexer": "ipython3",
   "version": "3.11.5"
  }
 },
 "nbformat": 4,
 "nbformat_minor": 2
}
